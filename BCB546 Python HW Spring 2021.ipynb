{
 "cells": [
  {
   "cell_type": "markdown",
   "metadata": {},
   "source": [
    "# Python Translate Script \n",
    "## Here's the start of our Python script. Thanks for completing it for me! - Dr. X\n",
    "\n",
    "Authors: Brianna D. Griffin and Dr. X"
   ]
  },
  {
   "cell_type": "markdown",
   "metadata": {},
   "source": [
    "To set up this code so it runs, I install biopython and pandas"
   ]
  },
  {
   "cell_type": "code",
   "execution_count": 7,
   "metadata": {
    "scrolled": false
   },
   "outputs": [
    {
     "name": "stdout",
     "output_type": "stream",
     "text": [
      "Requirement already satisfied: biopython in /opt/anaconda3/lib/python3.8/site-packages (1.78)\n",
      "Requirement already satisfied: numpy in /opt/anaconda3/lib/python3.8/site-packages (from biopython) (1.19.2)\n",
      "Note: you may need to restart the kernel to use updated packages.\n"
     ]
    }
   ],
   "source": [
    "pip install biopython"
   ]
  },
  {
   "cell_type": "code",
   "execution_count": 8,
   "metadata": {},
   "outputs": [
    {
     "name": "stdout",
     "output_type": "stream",
     "text": [
      "Requirement already satisfied: pandas in /opt/anaconda3/lib/python3.8/site-packages (1.1.3)\n",
      "Requirement already satisfied: numpy>=1.15.4 in /opt/anaconda3/lib/python3.8/site-packages (from pandas) (1.19.2)\n",
      "Requirement already satisfied: pytz>=2017.2 in /opt/anaconda3/lib/python3.8/site-packages (from pandas) (2020.1)\n",
      "Requirement already satisfied: python-dateutil>=2.7.3 in /opt/anaconda3/lib/python3.8/site-packages (from pandas) (2.8.1)\n",
      "Requirement already satisfied: six>=1.5 in /opt/anaconda3/lib/python3.8/site-packages (from python-dateutil>=2.7.3->pandas) (1.15.0)\n",
      "Note: you may need to restart the kernel to use updated packages.\n"
     ]
    }
   ],
   "source": [
    "pip install pandas"
   ]
  },
  {
   "cell_type": "code",
   "execution_count": 9,
   "metadata": {},
   "outputs": [],
   "source": [
    "from Bio import SeqIO\n",
    "from Bio.Data import CodonTable\n",
    "import pandas as pd"
   ]
  },
  {
   "cell_type": "markdown",
   "metadata": {},
   "source": [
    "## 1 ##\n",
    "## Dr. X: this gets sequences\n",
    "### Please finish documenting this function with comments, or in notebook markdown text"
   ]
  },
  {
   "cell_type": "markdown",
   "metadata": {},
   "source": [
    "This is Dr X's function. It takes a fasta file and pulls out all species names and sequence and puts it in a new dictionary (seq_data_dict) sorted by species name. "
   ]
  },
  {
   "cell_type": "code",
   "execution_count": 1,
   "metadata": {},
   "outputs": [],
   "source": [
    "def get_sequences_from_file(fasta_fn):\n",
    "    sequence_data_dict = {}\n",
    "    for record in SeqIO.parse(fasta_fn, \"fasta\"):\n",
    "        description = record.description.split()\n",
    "        species_name = description[1] + \" \" + description[2]\n",
    "        sequence_data_dict[species_name] = record.seq\n",
    "    return(sequence_data_dict)"
   ]
  },
  {
   "cell_type": "markdown",
   "metadata": {},
   "source": [
    "## 2 ##\n",
    "## YOUR STRING-TRANSLATE FUNCTION \n",
    "### Write a function that translates sequences\n",
    "\n"
   ]
  },
  {
   "cell_type": "markdown",
   "metadata": {},
   "source": [
    "This code is checking the mito_table to see what it is. "
   ]
  },
  {
   "cell_type": "code",
   "execution_count": 16,
   "metadata": {},
   "outputs": [
    {
     "name": "stdout",
     "output_type": "stream",
     "text": [
      "Table 2 Vertebrate Mitochondrial, SGC1\n",
      "\n",
      "  |  T      |  C      |  A      |  G      |\n",
      "--+---------+---------+---------+---------+--\n",
      "T | TTT F   | TCT S   | TAT Y   | TGT C   | T\n",
      "T | TTC F   | TCC S   | TAC Y   | TGC C   | C\n",
      "T | TTA L   | TCA S   | TAA Stop| TGA W   | A\n",
      "T | TTG L   | TCG S   | TAG Stop| TGG W   | G\n",
      "--+---------+---------+---------+---------+--\n",
      "C | CTT L   | CCT P   | CAT H   | CGT R   | T\n",
      "C | CTC L   | CCC P   | CAC H   | CGC R   | C\n",
      "C | CTA L   | CCA P   | CAA Q   | CGA R   | A\n",
      "C | CTG L   | CCG P   | CAG Q   | CGG R   | G\n",
      "--+---------+---------+---------+---------+--\n",
      "A | ATT I(s)| ACT T   | AAT N   | AGT S   | T\n",
      "A | ATC I(s)| ACC T   | AAC N   | AGC S   | C\n",
      "A | ATA M(s)| ACA T   | AAA K   | AGA Stop| A\n",
      "A | ATG M(s)| ACG T   | AAG K   | AGG Stop| G\n",
      "--+---------+---------+---------+---------+--\n",
      "G | GTT V   | GCT A   | GAT D   | GGT G   | T\n",
      "G | GTC V   | GCC A   | GAC D   | GGC G   | C\n",
      "G | GTA V   | GCA A   | GAA E   | GGA G   | A\n",
      "G | GTG V(s)| GCG A   | GAG E   | GGG G   | G\n",
      "--+---------+---------+---------+---------+--\n"
     ]
    }
   ],
   "source": [
    "mito_table = CodonTable.unambiguous_dna_by_name[\"Vertebrate Mitochondrial\"]\n",
    "print(mito_table)  "
   ]
  },
  {
   "cell_type": "markdown",
   "metadata": {},
   "source": [
    "The following code creates a translate function which translates the mitochondrial dna starting from codon position. It also omits any stop codons. "
   ]
  },
  {
   "cell_type": "code",
   "execution_count": 59,
   "metadata": {},
   "outputs": [],
   "source": [
    "def translate(string_nucleotides):\n",
    "    aa_seq_string = ''\n",
    "    for i in range(0, len(string_nucleotides),3):\n",
    "        code = string_nucleotides[i:i+3]\n",
    "        if code == 'AGA' or code == 'AGG' or code == 'TAA' or code == 'TAG':\n",
    "            return(aa_seq_string)\n",
    "        aa = mito_table.forward_table[code]\n",
    "        aa_seq_string = aa_seq_string + aa\n",
    "    return(aa_seq_string)"
   ]
  },
  {
   "cell_type": "markdown",
   "metadata": {},
   "source": [
    "## 3 ##\n",
    "## YOUR ALTERNATIVE FUNCTION \n",
    "### Is there a better way to write the translation function? (Hint: yes there is.) \n",
    "\n",
    "I did this via the BioPython tutorial section 3.8 http://biopython.org/DIST/docs/tutorial/Tutorial.pdf\n",
    "\n",
    "This code translates mRNA into protein coding sequence."
   ]
  },
  {
   "cell_type": "code",
   "execution_count": 4,
   "metadata": {},
   "outputs": [],
   "source": [
    "def translate_better(sting_nucleotides):\n",
    "    coding_dna = Seq(string_nucleotides)\n",
    "    return(coding_dna.tranlate)"
   ]
  },
  {
   "cell_type": "markdown",
   "metadata": {},
   "source": [
    "## 4 ##\n",
    "## YOUR COUNT AA ANALYSIS FUNCTION\n",
    "### Write a function that calculates the molecular weight of each amino acid sequence."
   ]
  },
  {
   "cell_type": "markdown",
   "metadata": {},
   "source": [
    "I utilized biopython tutorial for this: https://biopython.org/wiki/ProtParam\n",
    "\n",
    "This code makes a function that calculates the molecular weight of an amino acid sequence "
   ]
  },
  {
   "cell_type": "code",
   "execution_count": 88,
   "metadata": {},
   "outputs": [],
   "source": [
    "def compute_molecular_weight(aa_seq):\n",
    "    analysed_aa = ProteinAnalysis(aa_seq)\n",
    "    return(analysed_aa.molecular_weight())"
   ]
  },
  {
   "cell_type": "markdown",
   "metadata": {},
   "source": [
    "## 5 ##\n",
    "## YOUR GC CONTENT ANALYSIS FUNCTION \n",
    "### Write a function that calculates the GC-content (proportion of \"G\" and \"C\") of each DNA sequence and returns this value."
   ]
  },
  {
   "cell_type": "code",
   "execution_count": 71,
   "metadata": {},
   "outputs": [],
   "source": [
    "cytb_seqs = get_sequences_from_file(\"bears_cytb.fasta\") \n",
    "bears_df = pd.read_csv(\"bears_mass.csv\") \n",
    "species_list = list(bears_df.species)"
   ]
  },
  {
   "cell_type": "markdown",
   "metadata": {},
   "source": [
    "This code sets bear species type as an index and visualizes the species data"
   ]
  },
  {
   "cell_type": "code",
   "execution_count": 91,
   "metadata": {},
   "outputs": [
    {
     "data": {
      "text/html": [
       "<div>\n",
       "<style scoped>\n",
       "    .dataframe tbody tr th:only-of-type {\n",
       "        vertical-align: middle;\n",
       "    }\n",
       "\n",
       "    .dataframe tbody tr th {\n",
       "        vertical-align: top;\n",
       "    }\n",
       "\n",
       "    .dataframe thead th {\n",
       "        text-align: right;\n",
       "    }\n",
       "</style>\n",
       "<table border=\"1\" class=\"dataframe\">\n",
       "  <thead>\n",
       "    <tr style=\"text-align: right;\">\n",
       "      <th></th>\n",
       "      <th>mass</th>\n",
       "    </tr>\n",
       "    <tr>\n",
       "      <th>species</th>\n",
       "      <th></th>\n",
       "    </tr>\n",
       "  </thead>\n",
       "  <tbody>\n",
       "    <tr>\n",
       "      <th>Ursus spelaeus</th>\n",
       "      <td>550.800</td>\n",
       "    </tr>\n",
       "    <tr>\n",
       "      <th>Ursus arctos</th>\n",
       "      <td>203.500</td>\n",
       "    </tr>\n",
       "    <tr>\n",
       "      <th>Ursus thibetanus</th>\n",
       "      <td>99.714</td>\n",
       "    </tr>\n",
       "    <tr>\n",
       "      <th>Melursus ursinus</th>\n",
       "      <td>100.030</td>\n",
       "    </tr>\n",
       "    <tr>\n",
       "      <th>Ursus americanus</th>\n",
       "      <td>110.560</td>\n",
       "    </tr>\n",
       "    <tr>\n",
       "      <th>Helarctos malayanus</th>\n",
       "      <td>47.020</td>\n",
       "    </tr>\n",
       "    <tr>\n",
       "      <th>Ailuropoda melanoleuca</th>\n",
       "      <td>118.200</td>\n",
       "    </tr>\n",
       "    <tr>\n",
       "      <th>Tremarctos ornatus</th>\n",
       "      <td>140.700</td>\n",
       "    </tr>\n",
       "    <tr>\n",
       "      <th>Ursus maritimus</th>\n",
       "      <td>425.100</td>\n",
       "    </tr>\n",
       "  </tbody>\n",
       "</table>\n",
       "</div>"
      ],
      "text/plain": [
       "                           mass\n",
       "species                        \n",
       "Ursus spelaeus          550.800\n",
       "Ursus arctos            203.500\n",
       "Ursus thibetanus         99.714\n",
       "Melursus ursinus        100.030\n",
       "Ursus americanus        110.560\n",
       "Helarctos malayanus      47.020\n",
       "Ailuropoda melanoleuca  118.200\n",
       "Tremarctos ornatus      140.700\n",
       "Ursus maritimus         425.100"
      ]
     },
     "execution_count": 91,
     "metadata": {},
     "output_type": "execute_result"
    }
   ],
   "source": [
    "bears_new_df = bears_df.set_index('species')\n",
    "bears_new_df"
   ]
  },
  {
   "cell_type": "markdown",
   "metadata": {},
   "source": [
    "Found this on https://python.plainenglish.io/bioinformatics-in-python-dna-toolkit-part-3-gc-content-calculation-618993e0278c\n",
    "\n",
    "This code creates a function that calls the GC content % of a DNA sequence"
   ]
  },
  {
   "cell_type": "code",
   "execution_count": 106,
   "metadata": {},
   "outputs": [],
   "source": [
    "def GC_content(dna_seq):\n",
    "    return round((dna_seq.count('C') + dna_seq.count('G'))/len(dna_seq)*100)"
   ]
  },
  {
   "cell_type": "markdown",
   "metadata": {},
   "source": [
    "## 6 ## \n",
    "## Add two new columns to the bears DataFrame: (1) molecular weight and (2) GC content.\n",
    "## Set the value to 'NaN' to indicate that these cells are currently empty.\n"
   ]
  },
  {
   "cell_type": "markdown",
   "metadata": {},
   "source": [
    "This code takes my bear data frame from section 5 and adds two new columns titles molecular_weight and GC_content. To signify that they are currently empty, I have codified each empty cell with 'NaN'. "
   ]
  },
  {
   "cell_type": "code",
   "execution_count": 98,
   "metadata": {},
   "outputs": [
    {
     "data": {
      "text/html": [
       "<div>\n",
       "<style scoped>\n",
       "    .dataframe tbody tr th:only-of-type {\n",
       "        vertical-align: middle;\n",
       "    }\n",
       "\n",
       "    .dataframe tbody tr th {\n",
       "        vertical-align: top;\n",
       "    }\n",
       "\n",
       "    .dataframe thead th {\n",
       "        text-align: right;\n",
       "    }\n",
       "</style>\n",
       "<table border=\"1\" class=\"dataframe\">\n",
       "  <thead>\n",
       "    <tr style=\"text-align: right;\">\n",
       "      <th></th>\n",
       "      <th>mass</th>\n",
       "      <th>molecular_weight</th>\n",
       "      <th>GC_content</th>\n",
       "      <th>(Ursus spelaeus, molecular_weight)</th>\n",
       "      <th>(Ursus spelaeus, GC_content)</th>\n",
       "      <th>(Ursus arctos, molecular_weight)</th>\n",
       "      <th>(Ursus arctos, GC_content)</th>\n",
       "      <th>(Ursus thibetanus, molecular_weight)</th>\n",
       "      <th>(Ursus thibetanus, GC_content)</th>\n",
       "      <th>(Melursus ursinus, molecular_weight)</th>\n",
       "      <th>...</th>\n",
       "      <th>(Ursus americanus, molecular_weight)</th>\n",
       "      <th>(Ursus americanus, GC_content)</th>\n",
       "      <th>(Helarctos malayanus, molecular_weight)</th>\n",
       "      <th>(Helarctos malayanus, GC_content)</th>\n",
       "      <th>(Ailuropoda melanoleuca, molecular_weight)</th>\n",
       "      <th>(Ailuropoda melanoleuca, GC_content)</th>\n",
       "      <th>(Tremarctos ornatus, molecular_weight)</th>\n",
       "      <th>(Tremarctos ornatus, GC_content)</th>\n",
       "      <th>(Ursus maritimus, molecular_weight)</th>\n",
       "      <th>(Ursus maritimus, GC_content)</th>\n",
       "    </tr>\n",
       "    <tr>\n",
       "      <th>species</th>\n",
       "      <th></th>\n",
       "      <th></th>\n",
       "      <th></th>\n",
       "      <th></th>\n",
       "      <th></th>\n",
       "      <th></th>\n",
       "      <th></th>\n",
       "      <th></th>\n",
       "      <th></th>\n",
       "      <th></th>\n",
       "      <th></th>\n",
       "      <th></th>\n",
       "      <th></th>\n",
       "      <th></th>\n",
       "      <th></th>\n",
       "      <th></th>\n",
       "      <th></th>\n",
       "      <th></th>\n",
       "      <th></th>\n",
       "      <th></th>\n",
       "      <th></th>\n",
       "    </tr>\n",
       "  </thead>\n",
       "  <tbody>\n",
       "    <tr>\n",
       "      <th>Ursus spelaeus</th>\n",
       "      <td>550.800</td>\n",
       "      <td>NaN</td>\n",
       "      <td>NaN</td>\n",
       "      <td>42458.7992</td>\n",
       "      <td>8</td>\n",
       "      <td>42414.7435</td>\n",
       "      <td>8</td>\n",
       "      <td>42306.6735</td>\n",
       "      <td>8</td>\n",
       "      <td>42551.99</td>\n",
       "      <td>...</td>\n",
       "      <td>42427.7439</td>\n",
       "      <td>8</td>\n",
       "      <td>42560.891</td>\n",
       "      <td>8</td>\n",
       "      <td>42702.1845</td>\n",
       "      <td>7</td>\n",
       "      <td>42384.8266</td>\n",
       "      <td>8</td>\n",
       "      <td>42454.7873</td>\n",
       "      <td>8</td>\n",
       "    </tr>\n",
       "    <tr>\n",
       "      <th>Ursus arctos</th>\n",
       "      <td>203.500</td>\n",
       "      <td>NaN</td>\n",
       "      <td>NaN</td>\n",
       "      <td>42458.7992</td>\n",
       "      <td>8</td>\n",
       "      <td>42414.7435</td>\n",
       "      <td>8</td>\n",
       "      <td>42306.6735</td>\n",
       "      <td>8</td>\n",
       "      <td>42551.99</td>\n",
       "      <td>...</td>\n",
       "      <td>42427.7439</td>\n",
       "      <td>8</td>\n",
       "      <td>42560.891</td>\n",
       "      <td>8</td>\n",
       "      <td>42702.1845</td>\n",
       "      <td>7</td>\n",
       "      <td>42384.8266</td>\n",
       "      <td>8</td>\n",
       "      <td>42454.7873</td>\n",
       "      <td>8</td>\n",
       "    </tr>\n",
       "    <tr>\n",
       "      <th>Ursus thibetanus</th>\n",
       "      <td>99.714</td>\n",
       "      <td>NaN</td>\n",
       "      <td>NaN</td>\n",
       "      <td>42458.7992</td>\n",
       "      <td>8</td>\n",
       "      <td>42414.7435</td>\n",
       "      <td>8</td>\n",
       "      <td>42306.6735</td>\n",
       "      <td>8</td>\n",
       "      <td>42551.99</td>\n",
       "      <td>...</td>\n",
       "      <td>42427.7439</td>\n",
       "      <td>8</td>\n",
       "      <td>42560.891</td>\n",
       "      <td>8</td>\n",
       "      <td>42702.1845</td>\n",
       "      <td>7</td>\n",
       "      <td>42384.8266</td>\n",
       "      <td>8</td>\n",
       "      <td>42454.7873</td>\n",
       "      <td>8</td>\n",
       "    </tr>\n",
       "    <tr>\n",
       "      <th>Melursus ursinus</th>\n",
       "      <td>100.030</td>\n",
       "      <td>NaN</td>\n",
       "      <td>NaN</td>\n",
       "      <td>42458.7992</td>\n",
       "      <td>8</td>\n",
       "      <td>42414.7435</td>\n",
       "      <td>8</td>\n",
       "      <td>42306.6735</td>\n",
       "      <td>8</td>\n",
       "      <td>42551.99</td>\n",
       "      <td>...</td>\n",
       "      <td>42427.7439</td>\n",
       "      <td>8</td>\n",
       "      <td>42560.891</td>\n",
       "      <td>8</td>\n",
       "      <td>42702.1845</td>\n",
       "      <td>7</td>\n",
       "      <td>42384.8266</td>\n",
       "      <td>8</td>\n",
       "      <td>42454.7873</td>\n",
       "      <td>8</td>\n",
       "    </tr>\n",
       "    <tr>\n",
       "      <th>Ursus americanus</th>\n",
       "      <td>110.560</td>\n",
       "      <td>NaN</td>\n",
       "      <td>NaN</td>\n",
       "      <td>42458.7992</td>\n",
       "      <td>8</td>\n",
       "      <td>42414.7435</td>\n",
       "      <td>8</td>\n",
       "      <td>42306.6735</td>\n",
       "      <td>8</td>\n",
       "      <td>42551.99</td>\n",
       "      <td>...</td>\n",
       "      <td>42427.7439</td>\n",
       "      <td>8</td>\n",
       "      <td>42560.891</td>\n",
       "      <td>8</td>\n",
       "      <td>42702.1845</td>\n",
       "      <td>7</td>\n",
       "      <td>42384.8266</td>\n",
       "      <td>8</td>\n",
       "      <td>42454.7873</td>\n",
       "      <td>8</td>\n",
       "    </tr>\n",
       "    <tr>\n",
       "      <th>Helarctos malayanus</th>\n",
       "      <td>47.020</td>\n",
       "      <td>NaN</td>\n",
       "      <td>NaN</td>\n",
       "      <td>42458.7992</td>\n",
       "      <td>8</td>\n",
       "      <td>42414.7435</td>\n",
       "      <td>8</td>\n",
       "      <td>42306.6735</td>\n",
       "      <td>8</td>\n",
       "      <td>42551.99</td>\n",
       "      <td>...</td>\n",
       "      <td>42427.7439</td>\n",
       "      <td>8</td>\n",
       "      <td>42560.891</td>\n",
       "      <td>8</td>\n",
       "      <td>42702.1845</td>\n",
       "      <td>7</td>\n",
       "      <td>42384.8266</td>\n",
       "      <td>8</td>\n",
       "      <td>42454.7873</td>\n",
       "      <td>8</td>\n",
       "    </tr>\n",
       "    <tr>\n",
       "      <th>Ailuropoda melanoleuca</th>\n",
       "      <td>118.200</td>\n",
       "      <td>NaN</td>\n",
       "      <td>NaN</td>\n",
       "      <td>42458.7992</td>\n",
       "      <td>8</td>\n",
       "      <td>42414.7435</td>\n",
       "      <td>8</td>\n",
       "      <td>42306.6735</td>\n",
       "      <td>8</td>\n",
       "      <td>42551.99</td>\n",
       "      <td>...</td>\n",
       "      <td>42427.7439</td>\n",
       "      <td>8</td>\n",
       "      <td>42560.891</td>\n",
       "      <td>8</td>\n",
       "      <td>42702.1845</td>\n",
       "      <td>7</td>\n",
       "      <td>42384.8266</td>\n",
       "      <td>8</td>\n",
       "      <td>42454.7873</td>\n",
       "      <td>8</td>\n",
       "    </tr>\n",
       "    <tr>\n",
       "      <th>Tremarctos ornatus</th>\n",
       "      <td>140.700</td>\n",
       "      <td>NaN</td>\n",
       "      <td>NaN</td>\n",
       "      <td>42458.7992</td>\n",
       "      <td>8</td>\n",
       "      <td>42414.7435</td>\n",
       "      <td>8</td>\n",
       "      <td>42306.6735</td>\n",
       "      <td>8</td>\n",
       "      <td>42551.99</td>\n",
       "      <td>...</td>\n",
       "      <td>42427.7439</td>\n",
       "      <td>8</td>\n",
       "      <td>42560.891</td>\n",
       "      <td>8</td>\n",
       "      <td>42702.1845</td>\n",
       "      <td>7</td>\n",
       "      <td>42384.8266</td>\n",
       "      <td>8</td>\n",
       "      <td>42454.7873</td>\n",
       "      <td>8</td>\n",
       "    </tr>\n",
       "    <tr>\n",
       "      <th>Ursus maritimus</th>\n",
       "      <td>425.100</td>\n",
       "      <td>NaN</td>\n",
       "      <td>NaN</td>\n",
       "      <td>42458.7992</td>\n",
       "      <td>8</td>\n",
       "      <td>42414.7435</td>\n",
       "      <td>8</td>\n",
       "      <td>42306.6735</td>\n",
       "      <td>8</td>\n",
       "      <td>42551.99</td>\n",
       "      <td>...</td>\n",
       "      <td>42427.7439</td>\n",
       "      <td>8</td>\n",
       "      <td>42560.891</td>\n",
       "      <td>8</td>\n",
       "      <td>42702.1845</td>\n",
       "      <td>7</td>\n",
       "      <td>42384.8266</td>\n",
       "      <td>8</td>\n",
       "      <td>42454.7873</td>\n",
       "      <td>8</td>\n",
       "    </tr>\n",
       "  </tbody>\n",
       "</table>\n",
       "<p>9 rows × 21 columns</p>\n",
       "</div>"
      ],
      "text/plain": [
       "                           mass molecular_weight GC_content  \\\n",
       "species                                                       \n",
       "Ursus spelaeus          550.800              NaN        NaN   \n",
       "Ursus arctos            203.500              NaN        NaN   \n",
       "Ursus thibetanus         99.714              NaN        NaN   \n",
       "Melursus ursinus        100.030              NaN        NaN   \n",
       "Ursus americanus        110.560              NaN        NaN   \n",
       "Helarctos malayanus      47.020              NaN        NaN   \n",
       "Ailuropoda melanoleuca  118.200              NaN        NaN   \n",
       "Tremarctos ornatus      140.700              NaN        NaN   \n",
       "Ursus maritimus         425.100              NaN        NaN   \n",
       "\n",
       "                        (Ursus spelaeus, molecular_weight)  \\\n",
       "species                                                      \n",
       "Ursus spelaeus                                  42458.7992   \n",
       "Ursus arctos                                    42458.7992   \n",
       "Ursus thibetanus                                42458.7992   \n",
       "Melursus ursinus                                42458.7992   \n",
       "Ursus americanus                                42458.7992   \n",
       "Helarctos malayanus                             42458.7992   \n",
       "Ailuropoda melanoleuca                          42458.7992   \n",
       "Tremarctos ornatus                              42458.7992   \n",
       "Ursus maritimus                                 42458.7992   \n",
       "\n",
       "                        (Ursus spelaeus, GC_content)  \\\n",
       "species                                                \n",
       "Ursus spelaeus                                     8   \n",
       "Ursus arctos                                       8   \n",
       "Ursus thibetanus                                   8   \n",
       "Melursus ursinus                                   8   \n",
       "Ursus americanus                                   8   \n",
       "Helarctos malayanus                                8   \n",
       "Ailuropoda melanoleuca                             8   \n",
       "Tremarctos ornatus                                 8   \n",
       "Ursus maritimus                                    8   \n",
       "\n",
       "                        (Ursus arctos, molecular_weight)  \\\n",
       "species                                                    \n",
       "Ursus spelaeus                                42414.7435   \n",
       "Ursus arctos                                  42414.7435   \n",
       "Ursus thibetanus                              42414.7435   \n",
       "Melursus ursinus                              42414.7435   \n",
       "Ursus americanus                              42414.7435   \n",
       "Helarctos malayanus                           42414.7435   \n",
       "Ailuropoda melanoleuca                        42414.7435   \n",
       "Tremarctos ornatus                            42414.7435   \n",
       "Ursus maritimus                               42414.7435   \n",
       "\n",
       "                        (Ursus arctos, GC_content)  \\\n",
       "species                                              \n",
       "Ursus spelaeus                                   8   \n",
       "Ursus arctos                                     8   \n",
       "Ursus thibetanus                                 8   \n",
       "Melursus ursinus                                 8   \n",
       "Ursus americanus                                 8   \n",
       "Helarctos malayanus                              8   \n",
       "Ailuropoda melanoleuca                           8   \n",
       "Tremarctos ornatus                               8   \n",
       "Ursus maritimus                                  8   \n",
       "\n",
       "                        (Ursus thibetanus, molecular_weight)  \\\n",
       "species                                                        \n",
       "Ursus spelaeus                                    42306.6735   \n",
       "Ursus arctos                                      42306.6735   \n",
       "Ursus thibetanus                                  42306.6735   \n",
       "Melursus ursinus                                  42306.6735   \n",
       "Ursus americanus                                  42306.6735   \n",
       "Helarctos malayanus                               42306.6735   \n",
       "Ailuropoda melanoleuca                            42306.6735   \n",
       "Tremarctos ornatus                                42306.6735   \n",
       "Ursus maritimus                                   42306.6735   \n",
       "\n",
       "                        (Ursus thibetanus, GC_content)  \\\n",
       "species                                                  \n",
       "Ursus spelaeus                                       8   \n",
       "Ursus arctos                                         8   \n",
       "Ursus thibetanus                                     8   \n",
       "Melursus ursinus                                     8   \n",
       "Ursus americanus                                     8   \n",
       "Helarctos malayanus                                  8   \n",
       "Ailuropoda melanoleuca                               8   \n",
       "Tremarctos ornatus                                   8   \n",
       "Ursus maritimus                                      8   \n",
       "\n",
       "                        (Melursus ursinus, molecular_weight)  ...  \\\n",
       "species                                                       ...   \n",
       "Ursus spelaeus                                      42551.99  ...   \n",
       "Ursus arctos                                        42551.99  ...   \n",
       "Ursus thibetanus                                    42551.99  ...   \n",
       "Melursus ursinus                                    42551.99  ...   \n",
       "Ursus americanus                                    42551.99  ...   \n",
       "Helarctos malayanus                                 42551.99  ...   \n",
       "Ailuropoda melanoleuca                              42551.99  ...   \n",
       "Tremarctos ornatus                                  42551.99  ...   \n",
       "Ursus maritimus                                     42551.99  ...   \n",
       "\n",
       "                        (Ursus americanus, molecular_weight)  \\\n",
       "species                                                        \n",
       "Ursus spelaeus                                    42427.7439   \n",
       "Ursus arctos                                      42427.7439   \n",
       "Ursus thibetanus                                  42427.7439   \n",
       "Melursus ursinus                                  42427.7439   \n",
       "Ursus americanus                                  42427.7439   \n",
       "Helarctos malayanus                               42427.7439   \n",
       "Ailuropoda melanoleuca                            42427.7439   \n",
       "Tremarctos ornatus                                42427.7439   \n",
       "Ursus maritimus                                   42427.7439   \n",
       "\n",
       "                        (Ursus americanus, GC_content)  \\\n",
       "species                                                  \n",
       "Ursus spelaeus                                       8   \n",
       "Ursus arctos                                         8   \n",
       "Ursus thibetanus                                     8   \n",
       "Melursus ursinus                                     8   \n",
       "Ursus americanus                                     8   \n",
       "Helarctos malayanus                                  8   \n",
       "Ailuropoda melanoleuca                               8   \n",
       "Tremarctos ornatus                                   8   \n",
       "Ursus maritimus                                      8   \n",
       "\n",
       "                        (Helarctos malayanus, molecular_weight)  \\\n",
       "species                                                           \n",
       "Ursus spelaeus                                        42560.891   \n",
       "Ursus arctos                                          42560.891   \n",
       "Ursus thibetanus                                      42560.891   \n",
       "Melursus ursinus                                      42560.891   \n",
       "Ursus americanus                                      42560.891   \n",
       "Helarctos malayanus                                   42560.891   \n",
       "Ailuropoda melanoleuca                                42560.891   \n",
       "Tremarctos ornatus                                    42560.891   \n",
       "Ursus maritimus                                       42560.891   \n",
       "\n",
       "                        (Helarctos malayanus, GC_content)  \\\n",
       "species                                                     \n",
       "Ursus spelaeus                                          8   \n",
       "Ursus arctos                                            8   \n",
       "Ursus thibetanus                                        8   \n",
       "Melursus ursinus                                        8   \n",
       "Ursus americanus                                        8   \n",
       "Helarctos malayanus                                     8   \n",
       "Ailuropoda melanoleuca                                  8   \n",
       "Tremarctos ornatus                                      8   \n",
       "Ursus maritimus                                         8   \n",
       "\n",
       "                        (Ailuropoda melanoleuca, molecular_weight)  \\\n",
       "species                                                              \n",
       "Ursus spelaeus                                          42702.1845   \n",
       "Ursus arctos                                            42702.1845   \n",
       "Ursus thibetanus                                        42702.1845   \n",
       "Melursus ursinus                                        42702.1845   \n",
       "Ursus americanus                                        42702.1845   \n",
       "Helarctos malayanus                                     42702.1845   \n",
       "Ailuropoda melanoleuca                                  42702.1845   \n",
       "Tremarctos ornatus                                      42702.1845   \n",
       "Ursus maritimus                                         42702.1845   \n",
       "\n",
       "                        (Ailuropoda melanoleuca, GC_content)  \\\n",
       "species                                                        \n",
       "Ursus spelaeus                                             7   \n",
       "Ursus arctos                                               7   \n",
       "Ursus thibetanus                                           7   \n",
       "Melursus ursinus                                           7   \n",
       "Ursus americanus                                           7   \n",
       "Helarctos malayanus                                        7   \n",
       "Ailuropoda melanoleuca                                     7   \n",
       "Tremarctos ornatus                                         7   \n",
       "Ursus maritimus                                            7   \n",
       "\n",
       "                        (Tremarctos ornatus, molecular_weight)  \\\n",
       "species                                                          \n",
       "Ursus spelaeus                                      42384.8266   \n",
       "Ursus arctos                                        42384.8266   \n",
       "Ursus thibetanus                                    42384.8266   \n",
       "Melursus ursinus                                    42384.8266   \n",
       "Ursus americanus                                    42384.8266   \n",
       "Helarctos malayanus                                 42384.8266   \n",
       "Ailuropoda melanoleuca                              42384.8266   \n",
       "Tremarctos ornatus                                  42384.8266   \n",
       "Ursus maritimus                                     42384.8266   \n",
       "\n",
       "                        (Tremarctos ornatus, GC_content)  \\\n",
       "species                                                    \n",
       "Ursus spelaeus                                         8   \n",
       "Ursus arctos                                           8   \n",
       "Ursus thibetanus                                       8   \n",
       "Melursus ursinus                                       8   \n",
       "Ursus americanus                                       8   \n",
       "Helarctos malayanus                                    8   \n",
       "Ailuropoda melanoleuca                                 8   \n",
       "Tremarctos ornatus                                     8   \n",
       "Ursus maritimus                                        8   \n",
       "\n",
       "                        (Ursus maritimus, molecular_weight)  \\\n",
       "species                                                       \n",
       "Ursus spelaeus                                   42454.7873   \n",
       "Ursus arctos                                     42454.7873   \n",
       "Ursus thibetanus                                 42454.7873   \n",
       "Melursus ursinus                                 42454.7873   \n",
       "Ursus americanus                                 42454.7873   \n",
       "Helarctos malayanus                              42454.7873   \n",
       "Ailuropoda melanoleuca                           42454.7873   \n",
       "Tremarctos ornatus                               42454.7873   \n",
       "Ursus maritimus                                  42454.7873   \n",
       "\n",
       "                        (Ursus maritimus, GC_content)  \n",
       "species                                                \n",
       "Ursus spelaeus                                      8  \n",
       "Ursus arctos                                        8  \n",
       "Ursus thibetanus                                    8  \n",
       "Melursus ursinus                                    8  \n",
       "Ursus americanus                                    8  \n",
       "Helarctos malayanus                                 8  \n",
       "Ailuropoda melanoleuca                              8  \n",
       "Tremarctos ornatus                                  8  \n",
       "Ursus maritimus                                     8  \n",
       "\n",
       "[9 rows x 21 columns]"
      ]
     },
     "execution_count": 98,
     "metadata": {},
     "output_type": "execute_result"
    }
   ],
   "source": [
    "bears_new_df = bears_new_df.assign(molecular_weight = 'NaN', GC_content = 'NaN')\n",
    "bears_new_df"
   ]
  },
  {
   "cell_type": "markdown",
   "metadata": {},
   "source": [
    "## 7 ##\n",
    "## Write a for-loop that translates each sequence and also gets molecular weight and computes the GC content of each translated sequence and adds those data to DataFrame"
   ]
  },
  {
   "cell_type": "markdown",
   "metadata": {},
   "source": [
    "The code below starts by creating two empty lists where the molecular weight and GC content of each species will populate. The for statement utilizes functions created in section 2, 4, and 5, by translating the amino acid sequence then computing the molecular weight and the GC % of each species. It overwrites the 'NaN' place-holder with the new data as the table populates. \n",
    "\n",
    "For some reason the table was populating multiple times, so I create a new data frame (bears_complete) that has only the data that I want (mass, molecular_weight and GC_content)."
   ]
  },
  {
   "cell_type": "code",
   "execution_count": 185,
   "metadata": {},
   "outputs": [
    {
     "data": {
      "text/html": [
       "<div>\n",
       "<style scoped>\n",
       "    .dataframe tbody tr th:only-of-type {\n",
       "        vertical-align: middle;\n",
       "    }\n",
       "\n",
       "    .dataframe tbody tr th {\n",
       "        vertical-align: top;\n",
       "    }\n",
       "\n",
       "    .dataframe thead th {\n",
       "        text-align: right;\n",
       "    }\n",
       "</style>\n",
       "<table border=\"1\" class=\"dataframe\">\n",
       "  <thead>\n",
       "    <tr style=\"text-align: right;\">\n",
       "      <th></th>\n",
       "      <th>mass</th>\n",
       "      <th>molecular_weight</th>\n",
       "      <th>GC_content</th>\n",
       "    </tr>\n",
       "    <tr>\n",
       "      <th>species</th>\n",
       "      <th></th>\n",
       "      <th></th>\n",
       "      <th></th>\n",
       "    </tr>\n",
       "  </thead>\n",
       "  <tbody>\n",
       "    <tr>\n",
       "      <th>Ursus spelaeus</th>\n",
       "      <td>550.800</td>\n",
       "      <td>42458.7992</td>\n",
       "      <td>8</td>\n",
       "    </tr>\n",
       "    <tr>\n",
       "      <th>Ursus arctos</th>\n",
       "      <td>203.500</td>\n",
       "      <td>42414.7435</td>\n",
       "      <td>8</td>\n",
       "    </tr>\n",
       "    <tr>\n",
       "      <th>Ursus thibetanus</th>\n",
       "      <td>99.714</td>\n",
       "      <td>42306.6735</td>\n",
       "      <td>8</td>\n",
       "    </tr>\n",
       "    <tr>\n",
       "      <th>Melursus ursinus</th>\n",
       "      <td>100.030</td>\n",
       "      <td>42551.9900</td>\n",
       "      <td>8</td>\n",
       "    </tr>\n",
       "    <tr>\n",
       "      <th>Ursus americanus</th>\n",
       "      <td>110.560</td>\n",
       "      <td>42427.7439</td>\n",
       "      <td>8</td>\n",
       "    </tr>\n",
       "    <tr>\n",
       "      <th>Helarctos malayanus</th>\n",
       "      <td>47.020</td>\n",
       "      <td>42560.8910</td>\n",
       "      <td>8</td>\n",
       "    </tr>\n",
       "    <tr>\n",
       "      <th>Ailuropoda melanoleuca</th>\n",
       "      <td>118.200</td>\n",
       "      <td>42702.1845</td>\n",
       "      <td>7</td>\n",
       "    </tr>\n",
       "    <tr>\n",
       "      <th>Tremarctos ornatus</th>\n",
       "      <td>140.700</td>\n",
       "      <td>42384.8266</td>\n",
       "      <td>8</td>\n",
       "    </tr>\n",
       "    <tr>\n",
       "      <th>Ursus maritimus</th>\n",
       "      <td>425.100</td>\n",
       "      <td>42454.7873</td>\n",
       "      <td>8</td>\n",
       "    </tr>\n",
       "  </tbody>\n",
       "</table>\n",
       "</div>"
      ],
      "text/plain": [
       "                           mass  molecular_weight  GC_content\n",
       "species                                                      \n",
       "Ursus spelaeus          550.800        42458.7992           8\n",
       "Ursus arctos            203.500        42414.7435           8\n",
       "Ursus thibetanus         99.714        42306.6735           8\n",
       "Melursus ursinus        100.030        42551.9900           8\n",
       "Ursus americanus        110.560        42427.7439           8\n",
       "Helarctos malayanus      47.020        42560.8910           8\n",
       "Ailuropoda melanoleuca  118.200        42702.1845           7\n",
       "Tremarctos ornatus      140.700        42384.8266           8\n",
       "Ursus maritimus         425.100        42454.7873           8"
      ]
     },
     "execution_count": 185,
     "metadata": {},
     "output_type": "execute_result"
    }
   ],
   "source": [
    "mol_weight = []\n",
    "GC = []\n",
    "\n",
    "for key, value in cytb_seqs.items():\n",
    "    aa_seq_string = translate(value)\n",
    "    mol_weight_add = bears_new_df[key, 'molecular_weight'] = compute_molecular_weight(aa_seq_string)\n",
    "    GC_add = bears_new_df[key, 'GC_content'] = GC_content(aa_seq_string)\n",
    "    mol_weight.append(mol_weight_add)\n",
    "    GC.append(GC_add)\n",
    "    \n",
    "bears_new_df['molecular_weight'] = mol_weight\n",
    "bears_new_df['GC_content'] = GC\n",
    "\n",
    "bears_complete = bears_new_df[['mass', 'molecular_weight', 'GC_content']]\n",
    "bears_complete"
   ]
  },
  {
   "cell_type": "markdown",
   "metadata": {},
   "source": [
    "## 8 ##\n",
    "## Plot a bar-chart of the mass with the x-axes labeled with species names."
   ]
  },
  {
   "cell_type": "markdown",
   "metadata": {},
   "source": [
    "### *Q1* What is the largest bear species? \n",
    "Ursus spelaeus\n",
    "### *Q2* What else is interesting about this species?\n",
    "It's over 2X as big as the other species (except for Ursus maritimus)"
   ]
  },
  {
   "cell_type": "markdown",
   "metadata": {},
   "source": [
    "I start by installing teh necessary packages to be able to use ggplot. "
   ]
  },
  {
   "cell_type": "code",
   "execution_count": 143,
   "metadata": {},
   "outputs": [
    {
     "name": "stdout",
     "output_type": "stream",
     "text": [
      "Requirement already satisfied: pandas in /opt/anaconda3/lib/python3.8/site-packages (1.1.3)\n",
      "Collecting plotnine\n",
      "  Downloading plotnine-0.8.0-py3-none-any.whl (4.7 MB)\n",
      "\u001b[K     |████████████████████████████████| 4.7 MB 4.8 MB/s eta 0:00:01\n",
      "\u001b[?25hRequirement already satisfied: numpy>=1.15.4 in /opt/anaconda3/lib/python3.8/site-packages (from pandas) (1.19.2)\n",
      "Requirement already satisfied: python-dateutil>=2.7.3 in /opt/anaconda3/lib/python3.8/site-packages (from pandas) (2.8.1)\n",
      "Requirement already satisfied: pytz>=2017.2 in /opt/anaconda3/lib/python3.8/site-packages (from pandas) (2020.1)\n",
      "Requirement already satisfied: scipy>=1.5.0 in /opt/anaconda3/lib/python3.8/site-packages (from plotnine) (1.5.2)\n",
      "Collecting statsmodels>=0.12.1\n",
      "  Downloading statsmodels-0.12.2-cp38-cp38-macosx_10_15_x86_64.whl (9.5 MB)\n",
      "\u001b[K     |████████████████████████████████| 9.5 MB 4.2 MB/s eta 0:00:01\n",
      "\u001b[?25hRequirement already satisfied: matplotlib>=3.1.1 in /opt/anaconda3/lib/python3.8/site-packages (from plotnine) (3.3.2)\n",
      "Requirement already satisfied: patsy>=0.5.1 in /opt/anaconda3/lib/python3.8/site-packages (from plotnine) (0.5.1)\n",
      "Collecting descartes>=1.1.0\n",
      "  Downloading descartes-1.1.0-py3-none-any.whl (5.8 kB)\n",
      "Collecting mizani>=0.7.3\n",
      "  Downloading mizani-0.7.3-py3-none-any.whl (63 kB)\n",
      "\u001b[K     |████████████████████████████████| 63 kB 2.8 MB/s eta 0:00:01\n",
      "\u001b[?25hRequirement already satisfied: six>=1.5 in /opt/anaconda3/lib/python3.8/site-packages (from python-dateutil>=2.7.3->pandas) (1.15.0)\n",
      "Requirement already satisfied: certifi>=2020.06.20 in /opt/anaconda3/lib/python3.8/site-packages (from matplotlib>=3.1.1->plotnine) (2020.6.20)\n",
      "Requirement already satisfied: kiwisolver>=1.0.1 in /opt/anaconda3/lib/python3.8/site-packages (from matplotlib>=3.1.1->plotnine) (1.3.0)\n",
      "Requirement already satisfied: pillow>=6.2.0 in /opt/anaconda3/lib/python3.8/site-packages (from matplotlib>=3.1.1->plotnine) (8.0.1)\n",
      "Requirement already satisfied: cycler>=0.10 in /opt/anaconda3/lib/python3.8/site-packages (from matplotlib>=3.1.1->plotnine) (0.10.0)\n",
      "Requirement already satisfied: pyparsing!=2.0.4,!=2.1.2,!=2.1.6,>=2.0.3 in /opt/anaconda3/lib/python3.8/site-packages (from matplotlib>=3.1.1->plotnine) (2.4.7)\n",
      "Collecting palettable\n",
      "  Downloading palettable-3.3.0-py2.py3-none-any.whl (111 kB)\n",
      "\u001b[K     |████████████████████████████████| 111 kB 3.7 MB/s eta 0:00:01\n",
      "\u001b[?25hInstalling collected packages: statsmodels, descartes, palettable, mizani, plotnine\n",
      "  Attempting uninstall: statsmodels\n",
      "    Found existing installation: statsmodels 0.12.0\n",
      "    Uninstalling statsmodels-0.12.0:\n",
      "      Successfully uninstalled statsmodels-0.12.0\n",
      "Successfully installed descartes-1.1.0 mizani-0.7.3 palettable-3.3.0 plotnine-0.8.0 statsmodels-0.12.2\n",
      "Note: you may need to restart the kernel to use updated packages.\n"
     ]
    }
   ],
   "source": [
    "pip install pandas plotnine"
   ]
  },
  {
   "cell_type": "code",
   "execution_count": 171,
   "metadata": {},
   "outputs": [],
   "source": [
    "import numpy as np\n",
    "import pandas as pd\n",
    "from plotnine import ggplot, aes, geom_bar, coord_flip\n",
    "\n",
    "%matplotlib inline"
   ]
  },
  {
   "cell_type": "markdown",
   "metadata": {},
   "source": [
    "This code makes the species column a usable variable so that it can be plotted. "
   ]
  },
  {
   "cell_type": "code",
   "execution_count": 186,
   "metadata": {},
   "outputs": [
    {
     "data": {
      "text/html": [
       "<div>\n",
       "<style scoped>\n",
       "    .dataframe tbody tr th:only-of-type {\n",
       "        vertical-align: middle;\n",
       "    }\n",
       "\n",
       "    .dataframe tbody tr th {\n",
       "        vertical-align: top;\n",
       "    }\n",
       "\n",
       "    .dataframe thead th {\n",
       "        text-align: right;\n",
       "    }\n",
       "</style>\n",
       "<table border=\"1\" class=\"dataframe\">\n",
       "  <thead>\n",
       "    <tr style=\"text-align: right;\">\n",
       "      <th></th>\n",
       "      <th>species</th>\n",
       "      <th>mass</th>\n",
       "      <th>molecular_weight</th>\n",
       "      <th>GC_content</th>\n",
       "    </tr>\n",
       "  </thead>\n",
       "  <tbody>\n",
       "    <tr>\n",
       "      <th>0</th>\n",
       "      <td>Ursus spelaeus</td>\n",
       "      <td>550.800</td>\n",
       "      <td>42458.7992</td>\n",
       "      <td>8</td>\n",
       "    </tr>\n",
       "    <tr>\n",
       "      <th>1</th>\n",
       "      <td>Ursus arctos</td>\n",
       "      <td>203.500</td>\n",
       "      <td>42414.7435</td>\n",
       "      <td>8</td>\n",
       "    </tr>\n",
       "    <tr>\n",
       "      <th>2</th>\n",
       "      <td>Ursus thibetanus</td>\n",
       "      <td>99.714</td>\n",
       "      <td>42306.6735</td>\n",
       "      <td>8</td>\n",
       "    </tr>\n",
       "    <tr>\n",
       "      <th>3</th>\n",
       "      <td>Melursus ursinus</td>\n",
       "      <td>100.030</td>\n",
       "      <td>42551.9900</td>\n",
       "      <td>8</td>\n",
       "    </tr>\n",
       "    <tr>\n",
       "      <th>4</th>\n",
       "      <td>Ursus americanus</td>\n",
       "      <td>110.560</td>\n",
       "      <td>42427.7439</td>\n",
       "      <td>8</td>\n",
       "    </tr>\n",
       "    <tr>\n",
       "      <th>5</th>\n",
       "      <td>Helarctos malayanus</td>\n",
       "      <td>47.020</td>\n",
       "      <td>42560.8910</td>\n",
       "      <td>8</td>\n",
       "    </tr>\n",
       "    <tr>\n",
       "      <th>6</th>\n",
       "      <td>Ailuropoda melanoleuca</td>\n",
       "      <td>118.200</td>\n",
       "      <td>42702.1845</td>\n",
       "      <td>7</td>\n",
       "    </tr>\n",
       "    <tr>\n",
       "      <th>7</th>\n",
       "      <td>Tremarctos ornatus</td>\n",
       "      <td>140.700</td>\n",
       "      <td>42384.8266</td>\n",
       "      <td>8</td>\n",
       "    </tr>\n",
       "    <tr>\n",
       "      <th>8</th>\n",
       "      <td>Ursus maritimus</td>\n",
       "      <td>425.100</td>\n",
       "      <td>42454.7873</td>\n",
       "      <td>8</td>\n",
       "    </tr>\n",
       "  </tbody>\n",
       "</table>\n",
       "</div>"
      ],
      "text/plain": [
       "                  species     mass  molecular_weight  GC_content\n",
       "0          Ursus spelaeus  550.800        42458.7992           8\n",
       "1            Ursus arctos  203.500        42414.7435           8\n",
       "2        Ursus thibetanus   99.714        42306.6735           8\n",
       "3        Melursus ursinus  100.030        42551.9900           8\n",
       "4        Ursus americanus  110.560        42427.7439           8\n",
       "5     Helarctos malayanus   47.020        42560.8910           8\n",
       "6  Ailuropoda melanoleuca  118.200        42702.1845           7\n",
       "7      Tremarctos ornatus  140.700        42384.8266           8\n",
       "8         Ursus maritimus  425.100        42454.7873           8"
      ]
     },
     "execution_count": 186,
     "metadata": {},
     "output_type": "execute_result"
    }
   ],
   "source": [
    "bears_complete2 = bears_complete.reset_index()\n",
    "bears_complete2"
   ]
  },
  {
   "cell_type": "markdown",
   "metadata": {},
   "source": [
    "This code utilizes ggplot to make a bar plot of the species shwoing their differences in mass. "
   ]
  },
  {
   "cell_type": "code",
   "execution_count": 187,
   "metadata": {},
   "outputs": [
    {
     "data": {
      "image/png": "[encoded data removed]",
      "text/plain": [
       "<Figure size 640x480 with 1 Axes>"
      ]
     },
     "metadata": {},
     "output_type": "display_data"
    },
    {
     "data": {
      "text/plain": [
       "<ggplot: (8774314789373)>"
      ]
     },
     "execution_count": 187,
     "metadata": {},
     "output_type": "execute_result"
    }
   ],
   "source": [
    "ggplot(aes(x=\"species\", weight=\"mass\"), bears_complete2) + geom_bar() + coord_flip()"
   ]
  },
  {
   "cell_type": "markdown",
   "metadata": {},
   "source": [
    "## 9 ##\n",
    "## Plot a visualization of the molecular weight (y-axis) as a function of GC-content (x-axis)."
   ]
  },
  {
   "cell_type": "markdown",
   "metadata": {},
   "source": [
    "This code plots the GC content % of each of the species in relation to their molecular weight."
   ]
  },
  {
   "cell_type": "code",
   "execution_count": 188,
   "metadata": {
    "scrolled": false
   },
   "outputs": [
    {
     "data": {
      "image/png": "[encoded data removed]",
      "text/plain": [
       "<Figure size 640x480 with 1 Axes>"
      ]
     },
     "metadata": {},
     "output_type": "display_data"
    },
    {
     "data": {
      "text/plain": [
       "<ggplot: (8774313903876)>"
      ]
     },
     "execution_count": 188,
     "metadata": {},
     "output_type": "execute_result"
    }
   ],
   "source": [
    "ggplot(bears_complete2, aes(x='GC_content', y='molecular_weight', color='species')) + geom_point()"
   ]
  },
  {
   "cell_type": "markdown",
   "metadata": {},
   "source": [
    "## 10 ##\n",
    "## Save the new DataFrame to a file called \"bears_mass_cytb.csv\""
   ]
  },
  {
   "cell_type": "code",
   "execution_count": 190,
   "metadata": {},
   "outputs": [],
   "source": [
    "bears_complete.to_csv('bears_mass_cytb.csv')"
   ]
  },
  {
   "cell_type": "markdown",
   "metadata": {},
   "source": [
    "## 11 - BONUS ##\n",
    "## What else can we do with this dataset in Python? \n",
    "### Add functions or anything that might be interesting and fun. (optional)"
   ]
  },
  {
   "cell_type": "markdown",
   "metadata": {},
   "source": [
    "This code is utilizing ggplot to plot the bear species mass in relation to their molecular weight."
   ]
  },
  {
   "cell_type": "code",
   "execution_count": 189,
   "metadata": {},
   "outputs": [
    {
     "data": {
      "image/png": "[encoded data removed]",
      "text/plain": [
       "<Figure size 640x480 with 1 Axes>"
      ]
     },
     "metadata": {},
     "output_type": "display_data"
    },
    {
     "data": {
      "text/plain": [
       "<ggplot: (8774313418460)>"
      ]
     },
     "execution_count": 189,
     "metadata": {},
     "output_type": "execute_result"
    }
   ],
   "source": [
    "ggplot(bears_complete2, aes(x='mass', y='molecular_weight', color='species')) + geom_point()"
   ]
  }
 ],
 "metadata": {
  "kernelspec": {
   "display_name": "Python 3",
   "language": "python",
   "name": "python3"
  },
  "language_info": {
   "codemirror_mode": {
    "name": "ipython",
    "version": 3
   },
   "file_extension": ".py",
   "mimetype": "text/x-python",
   "name": "python",
   "nbconvert_exporter": "python",
   "pygments_lexer": "ipython3",
   "version": "3.8.5"
  }
 },
 "nbformat": 4,
 "nbformat_minor": 4
}
